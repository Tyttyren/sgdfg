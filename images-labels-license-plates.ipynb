{
 "metadata": {
  "kernelspec": {
   "language": "python",
   "display_name": "Python 3",
   "name": "python3"
  },
  "language_info": {
   "pygments_lexer": "ipython3",
   "nbconvert_exporter": "python",
   "version": "3.6.4",
   "file_extension": ".py",
   "codemirror_mode": {
    "name": "ipython",
    "version": 3
   },
   "name": "python",
   "mimetype": "text/x-python"
  }
 },
 "nbformat_minor": 4,
 "nbformat": 4,
 "cells": [
  {
   "cell_type": "code",
   "source": "# This Python 3 environment comes with many helpful analytics libraries installed\n# It is defined by the kaggle/python Docker image: https://github.com/kaggle/docker-python\n# For example, here's several helpful packages to load\n\nimport numpy as np # linear algebra\nimport pandas as pd # data processing, CSV file I/O (e.g. pd.read_csv)\n\n# Input data files are available in the read-only \"../input/\" directory\n# For example, running this (by clicking run or pressing Shift+Enter) will list all files under the input directory\n\nimport os\nfor dirname, _, filenames in os.walk('/kaggle/input'):\n    for filename in filenames:\n        print(os.path.join(dirname, filename))\n\n# You can write up to 20GB to the current directory (/kaggle/working/) that gets preserved as output when you create a version using \"Save & Run All\" \n# You can also write temporary files to /kaggle/temp/, but they won't be saved outside of the current session",
   "metadata": {
    "_uuid": "8f2839f25d086af736a60e9eeb907d3b93b6e0e5",
    "_cell_guid": "b1076dfc-b9ad-4769-8c92-a6c4dae69d19",
    "execution": {
     "iopub.status.busy": "2021-08-20T22:58:36.92854Z",
     "iopub.execute_input": "2021-08-20T22:58:36.928893Z",
     "iopub.status.idle": "2021-08-20T22:58:37.355447Z",
     "shell.execute_reply.started": "2021-08-20T22:58:36.928864Z",
     "shell.execute_reply": "2021-08-20T22:58:37.354559Z"
    },
    "collapsed": true,
    "jupyter": {
     "outputs_hidden": true
    },
    "_kg_hide-input": true,
    "_kg_hide-output": true,
    "trusted": true
   },
   "execution_count": 1,
   "outputs": []
  },
  {
   "cell_type": "code",
   "source": "#Code by https://www.kaggle.com/mpwolke/gravel-wood-labels-images\n\nimport torch\nimport torchvision\nimport seaborn as sns\nimport matplotlib.pyplot as plt\n\nfrom PIL import Image, ImageDraw\nimport xml.etree.ElementTree as ET\n\nimages_dir = '/kaggle/input/indian-license-plates-with-labels/images/'\nannotations_dir = '/kaggle/input/indian-license-plates-with-labels/labels/'",
   "metadata": {
    "execution": {
     "iopub.status.busy": "2021-08-20T22:58:54.001233Z",
     "iopub.execute_input": "2021-08-20T22:58:54.001585Z",
     "iopub.status.idle": "2021-08-20T22:58:56.229725Z",
     "shell.execute_reply.started": "2021-08-20T22:58:54.001556Z",
     "shell.execute_reply": "2021-08-20T22:58:56.228733Z"
    },
    "trusted": true
   },
   "execution_count": null,
   "outputs": []
  },
  {
   "cell_type": "code",
   "source": "#As it has zeros before the number of the sample id, write it with ticks.\n\nsample_id = '00000006'\n\nsample_image_path = f'/kaggle/input/indian-license-plates-with-labels/images/{sample_id}.jpg'\nsample_annot_path = f'/kaggle/input/indian-license-plates-with-labels/labels/{sample_id}.txt'",
   "metadata": {
    "execution": {
     "iopub.status.busy": "2021-08-20T23:03:24.953963Z",
     "iopub.execute_input": "2021-08-20T23:03:24.954506Z",
     "iopub.status.idle": "2021-08-20T23:03:24.958632Z",
     "shell.execute_reply.started": "2021-08-20T23:03:24.954474Z",
     "shell.execute_reply": "2021-08-20T23:03:24.957857Z"
    },
    "trusted": true
   },
   "execution_count": 8,
   "outputs": []
  },
  {
   "cell_type": "code",
   "source": "sample_image = Image.open(sample_image_path)\nsample_image",
   "metadata": {
    "execution": {
     "iopub.status.busy": "2021-08-20T23:03:31.484999Z",
     "iopub.execute_input": "2021-08-20T23:03:31.48552Z",
     "iopub.status.idle": "2021-08-20T23:03:31.62993Z",
     "shell.execute_reply.started": "2021-08-20T23:03:31.485487Z",
     "shell.execute_reply": "2021-08-20T23:03:31.629065Z"
    },
    "trusted": true
   },
   "execution_count": 7,
   "outputs": [
    {
     "ename": "NameError",
     "evalue": "name 'Image' is not defined",
     "output_type": "error",
     "traceback": [
      "\u001B[1;31m---------------------------------------------------------------------------\u001B[0m",
      "\u001B[1;31mNameError\u001B[0m                                 Traceback (most recent call last)",
      "Cell \u001B[1;32mIn [7], line 1\u001B[0m\n\u001B[1;32m----> 1\u001B[0m sample_image \u001B[38;5;241m=\u001B[39m \u001B[43mImage\u001B[49m\u001B[38;5;241m.\u001B[39mopen(sample_image_path)\n\u001B[0;32m      2\u001B[0m sample_image\n",
      "\u001B[1;31mNameError\u001B[0m: name 'Image' is not defined"
     ]
    }
   ]
  },
  {
   "cell_type": "code",
   "source": "with open(sample_annot_path) as annot_file:\n    print(''.join(annot_file.readlines()))",
   "metadata": {
    "execution": {
     "iopub.status.busy": "2021-08-20T23:04:50.24009Z",
     "iopub.execute_input": "2021-08-20T23:04:50.240441Z",
     "iopub.status.idle": "2021-08-20T23:04:50.251321Z",
     "shell.execute_reply.started": "2021-08-20T23:04:50.24041Z",
     "shell.execute_reply": "2021-08-20T23:04:50.250501Z"
    },
    "trusted": true
   },
   "execution_count": 6,
   "outputs": [
    {
     "ename": "FileNotFoundError",
     "evalue": "[Errno 2] No such file or directory: '/kaggle/input/indian-license-plates-with-labels/labels/00000006.txt'",
     "output_type": "error",
     "traceback": [
      "\u001B[1;31m---------------------------------------------------------------------------\u001B[0m",
      "\u001B[1;31mFileNotFoundError\u001B[0m                         Traceback (most recent call last)",
      "Cell \u001B[1;32mIn [6], line 1\u001B[0m\n\u001B[1;32m----> 1\u001B[0m \u001B[38;5;28;01mwith\u001B[39;00m \u001B[38;5;28;43mopen\u001B[39;49m\u001B[43m(\u001B[49m\u001B[43msample_annot_path\u001B[49m\u001B[43m)\u001B[49m \u001B[38;5;28;01mas\u001B[39;00m annot_file:\n\u001B[0;32m      2\u001B[0m     \u001B[38;5;28mprint\u001B[39m(\u001B[38;5;124m'\u001B[39m\u001B[38;5;124m'\u001B[39m\u001B[38;5;241m.\u001B[39mjoin(annot_file\u001B[38;5;241m.\u001B[39mreadlines()))\n",
      "File \u001B[1;32md:\\soft\\python\\lib\\site-packages\\IPython\\core\\interactiveshell.py:282\u001B[0m, in \u001B[0;36m_modified_open\u001B[1;34m(file, *args, **kwargs)\u001B[0m\n\u001B[0;32m    275\u001B[0m \u001B[38;5;28;01mif\u001B[39;00m file \u001B[38;5;129;01min\u001B[39;00m {\u001B[38;5;241m0\u001B[39m, \u001B[38;5;241m1\u001B[39m, \u001B[38;5;241m2\u001B[39m}:\n\u001B[0;32m    276\u001B[0m     \u001B[38;5;28;01mraise\u001B[39;00m \u001B[38;5;167;01mValueError\u001B[39;00m(\n\u001B[0;32m    277\u001B[0m         \u001B[38;5;124mf\u001B[39m\u001B[38;5;124m\"\u001B[39m\u001B[38;5;124mIPython won\u001B[39m\u001B[38;5;124m'\u001B[39m\u001B[38;5;124mt let you open fd=\u001B[39m\u001B[38;5;132;01m{\u001B[39;00mfile\u001B[38;5;132;01m}\u001B[39;00m\u001B[38;5;124m by default \u001B[39m\u001B[38;5;124m\"\u001B[39m\n\u001B[0;32m    278\u001B[0m         \u001B[38;5;124m\"\u001B[39m\u001B[38;5;124mas it is likely to crash IPython. If you know what you are doing, \u001B[39m\u001B[38;5;124m\"\u001B[39m\n\u001B[0;32m    279\u001B[0m         \u001B[38;5;124m\"\u001B[39m\u001B[38;5;124myou can use builtins\u001B[39m\u001B[38;5;124m'\u001B[39m\u001B[38;5;124m open.\u001B[39m\u001B[38;5;124m\"\u001B[39m\n\u001B[0;32m    280\u001B[0m     )\n\u001B[1;32m--> 282\u001B[0m \u001B[38;5;28;01mreturn\u001B[39;00m io_open(file, \u001B[38;5;241m*\u001B[39margs, \u001B[38;5;241m*\u001B[39m\u001B[38;5;241m*\u001B[39mkwargs)\n",
      "\u001B[1;31mFileNotFoundError\u001B[0m: [Errno 2] No such file or directory: '/kaggle/input/indian-license-plates-with-labels/labels/00000006.txt'"
     ]
    }
   ]
  },
  {
   "cell_type": "code",
   "source": "model = torchvision.models.detection.fasterrcnn_resnet50_fpn(\n    pretrained=True, progress=True, num_classes=91, pretrained_backbone=True)\n\nmodel",
   "metadata": {
    "execution": {
     "iopub.status.busy": "2021-08-20T23:05:44.564444Z",
     "iopub.execute_input": "2021-08-20T23:05:44.564955Z",
     "iopub.status.idle": "2021-08-20T23:05:55.721479Z",
     "shell.execute_reply.started": "2021-08-20T23:05:44.564915Z",
     "shell.execute_reply": "2021-08-20T23:05:55.720367Z"
    },
    "_kg_hide-output": true,
    "trusted": true
   },
   "execution_count": null,
   "outputs": []
  },
  {
   "cell_type": "code",
   "source": "model.eval()\n\nnp_sample_image = np.array(sample_image.convert(\"RGB\"))\n\ntransformed_img = torchvision.transforms.transforms.ToTensor()(\n        torchvision.transforms.ToPILImage()(np_sample_image))\n\nresult = model([transformed_img])\n\nresult",
   "metadata": {
    "execution": {
     "iopub.status.busy": "2021-08-20T23:06:23.859447Z",
     "iopub.execute_input": "2021-08-20T23:06:23.859811Z",
     "iopub.status.idle": "2021-08-20T23:06:29.052294Z",
     "shell.execute_reply.started": "2021-08-20T23:06:23.859781Z",
     "shell.execute_reply": "2021-08-20T23:06:29.051249Z"
    },
    "_kg_hide-output": true,
    "trusted": true
   },
   "execution_count": null,
   "outputs": []
  },
  {
   "cell_type": "code",
   "source": "COCO_INSTANCE_CATEGORY_NAMES = [\n     'license plate','caterpillar','__background__', 'vehicle', 'person', 'bicycle', 'car', 'motorcycle', 'airplane', 'bus',\n    'train', 'truck', 'boat', 'traffic light', 'fire hydrant', 'N/A', 'stop sign',\n    'parking meter', 'bench', 'bird', 'cat', 'dog', 'horse', 'sheep', 'cow',\n    'elephant', 'bear', 'zebra', 'giraffe', 'N/A', 'backpack', 'umbrella', 'N/A', 'N/A',\n    'handbag', 'tie', 'suitcase', 'frisbee', 'skis', 'snowboard', 'sports ball',\n    'kite', 'baseball bat', 'baseball glove', 'skateboard', 'surfboard', 'tennis racket',\n    'bottle', 'N/A', 'wine glass', 'cup', 'fork', 'knife', 'spoon', 'bowl',\n    'banana', 'apple', 'sandwich', 'orange', 'broccoli', 'carrot', 'hot dog', 'pizza',\n    'donut', 'cake', 'chair', 'couch', 'potted plant', 'bed', 'N/A', 'dining table',\n    'N/A', 'N/A', 'toilet', 'N/A', 'tv', 'laptop', 'mouse', 'remote', 'keyboard', 'cell phone',\n    'microwave', 'oven', 'toaster', 'sink', 'refrigerator', 'N/A', 'book',\n    'clock', 'vase', 'scissors', 'teddy bear', 'hair drier', 'toothbrush']",
   "metadata": {
    "execution": {
     "iopub.status.busy": "2021-08-20T23:10:20.224089Z",
     "iopub.execute_input": "2021-08-20T23:10:20.224455Z",
     "iopub.status.idle": "2021-08-20T23:10:20.232479Z",
     "shell.execute_reply.started": "2021-08-20T23:10:20.224424Z",
     "shell.execute_reply": "2021-08-20T23:10:20.231423Z"
    },
    "trusted": true
   },
   "execution_count": null,
   "outputs": []
  },
  {
   "cell_type": "markdown",
   "source": "#Coco doesn't have License Plate. So, no box for now.",
   "metadata": {}
  },
  {
   "cell_type": "code",
   "source": "plate_id = 1\nplate_boxes = [x.detach().numpy().tolist() for i, x in enumerate(result[0]['boxes']) if result[0]['labels'][i] == plate_id]\nplate_boxes",
   "metadata": {
    "execution": {
     "iopub.status.busy": "2021-08-20T23:10:52.574503Z",
     "iopub.execute_input": "2021-08-20T23:10:52.574921Z",
     "iopub.status.idle": "2021-08-20T23:10:52.58402Z",
     "shell.execute_reply.started": "2021-08-20T23:10:52.574885Z",
     "shell.execute_reply": "2021-08-20T23:10:52.582982Z"
    },
    "trusted": true
   },
   "execution_count": 3,
   "outputs": [
    {
     "name": "stderr",
     "output_type": "stream",
     "text": [
      "Traceback (most recent call last):\n",
      "  File \"C:\\Users\\14285\\AppData\\Roaming\\JetBrains\\IntelliJIdea2021.1\\plugins\\python\\helpers-pro\\jupyter_debug\\pydev_jupyter_utils.py\", line 69, in attach_to_debugger\n",
      "    debugger.prepare_to_run(enable_tracing_from_start=False)\n",
      "TypeError: prepare_to_run() got an unexpected keyword argument 'enable_tracing_from_start'\n",
      "Failed to connect to target debugger.\n"
     ]
    },
    {
     "ename": "NameError",
     "evalue": "name 'result' is not defined",
     "output_type": "error",
     "traceback": [
      "\u001B[1;31m---------------------------------------------------------------------------\u001B[0m",
      "\u001B[1;31mNameError\u001B[0m                                 Traceback (most recent call last)",
      "Cell \u001B[1;32mIn [3], line 3\u001B[0m\n\u001B[0;32m      1\u001B[0m \u001B[38;5;66;03m# pydev_debug_cell\u001B[39;00m\n\u001B[0;32m      2\u001B[0m plate_id \u001B[38;5;241m=\u001B[39m \u001B[38;5;241m1\u001B[39m\n\u001B[1;32m----> 3\u001B[0m plate_boxes \u001B[38;5;241m=\u001B[39m [x\u001B[38;5;241m.\u001B[39mdetach()\u001B[38;5;241m.\u001B[39mnumpy()\u001B[38;5;241m.\u001B[39mtolist() \u001B[38;5;28;01mfor\u001B[39;00m i, x \u001B[38;5;129;01min\u001B[39;00m \u001B[38;5;28menumerate\u001B[39m(\u001B[43mresult\u001B[49m[\u001B[38;5;241m0\u001B[39m][\u001B[38;5;124m'\u001B[39m\u001B[38;5;124mboxes\u001B[39m\u001B[38;5;124m'\u001B[39m]) \u001B[38;5;28;01mif\u001B[39;00m result[\u001B[38;5;241m0\u001B[39m][\u001B[38;5;124m'\u001B[39m\u001B[38;5;124mlabels\u001B[39m\u001B[38;5;124m'\u001B[39m][i] \u001B[38;5;241m==\u001B[39m plate_id]\n\u001B[0;32m      4\u001B[0m plate_boxes\n",
      "\u001B[1;31mNameError\u001B[0m: name 'result' is not defined"
     ]
    }
   ]
  }
 ]
}